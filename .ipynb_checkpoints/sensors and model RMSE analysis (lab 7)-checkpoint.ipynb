{
 "cells": [
  {
   "cell_type": "markdown",
   "id": "f4233d19",
   "metadata": {},
   "source": [
    "# 1. Set up the notebook"
   ]
  },
  {
   "cell_type": "markdown",
   "id": "38bcc561",
   "metadata": {},
   "source": [
    "Import modules."
   ]
  },
  {
   "cell_type": "code",
   "execution_count": 40,
   "id": "294d9f2d",
   "metadata": {},
   "outputs": [],
   "source": [
    "import numpy as np\n",
    "import sympy as sym\n",
    "import json\n",
    "import matplotlib.pyplot as plt\n",
    "from scipy import linalg\n",
    "from scipy.interpolate import interp1d\n",
    "from IPython.display import display, IFrame, HTML"
   ]
  },
  {
   "cell_type": "markdown",
   "id": "db664848",
   "metadata": {},
   "source": [
    "Define a function to load data from hardware and resample it at 100 Hz using linear interpolation."
   ]
  },
  {
   "cell_type": "code",
   "execution_count": 41,
   "id": "a51e9f5d",
   "metadata": {},
   "outputs": [],
   "source": [
    "def load_hardware_data(filename, t_min_offset=0, t_max_offset=0, only_in_flight=False):\n",
    "    # load raw data\n",
    "    with open(filename, 'r') as f:\n",
    "        data = json.load(f)\n",
    "\n",
    "    # convert lists to numpy arrays\n",
    "    for val in data.values():\n",
    "        for key in val.keys():\n",
    "            val[key] = np.array(val[key])\n",
    "\n",
    "    # create an array of times at which to subsample\n",
    "    t_min = -np.inf\n",
    "    t_max = np.inf\n",
    "    for key, val in data.items():\n",
    "        t_min = max(t_min, val['time'][0])\n",
    "        t_max = min(t_max, val['time'][-1])\n",
    "    t_min += t_min_offset * 1000\n",
    "    t_max -= t_max_offset * 1000\n",
    "    nt = int(1 + np.floor((t_max - t_min) / 10.))\n",
    "    t = np.arange(0, 10 * nt, 10) / 1000.\n",
    "    resampled_data = {'time': t}\n",
    "\n",
    "    # resample raw data with linear interpolation\n",
    "    for k, v in data.items():\n",
    "        f = interp1d((v['time'] - t_min) / 1000., v['data'])\n",
    "        resampled_data[k] = f(t)\n",
    "    \n",
    "    # truncate to times when o_z_des is positive\n",
    "    if only_in_flight:\n",
    "        i = []\n",
    "        for k in ['ae483log.o_z_des', 'ctrltarget.z']:\n",
    "            if k in resampled_data.keys():\n",
    "                j = np.argwhere(resampled_data[k] > 0).flatten()\n",
    "                if len(j) > len(i):\n",
    "                    i = j\n",
    "        if len(i) < 2:\n",
    "            raise Exception(\n",
    "                'Failed to get \"only_in_flight\" data.\\n' + \\\n",
    "                ' - Did you remember to log \"ae483log.o_z_des\" and was it ever positive?\\n' + \\\n",
    "                ' - Did you remember to log \"ctrltarget.z\" and was it ever positive?\\n'\n",
    "            )\n",
    "        for key in resampled_data.keys():\n",
    "            resampled_data[key] = resampled_data[key][i[0]:i[-1]]\n",
    "        \n",
    "    # return the resampled data\n",
    "    return resampled_data"
   ]
  },
  {
   "cell_type": "markdown",
   "id": "bcdf9152",
   "metadata": {},
   "source": [
    "Define a function to embed videos that have been uploaded to [Illinois Mediaspace](https://mediaspace.illinois.edu/)."
   ]
  },
  {
   "cell_type": "code",
   "execution_count": 42,
   "id": "82163532",
   "metadata": {},
   "outputs": [],
   "source": [
    "def mediaspace(url, width=640, height=397):\n",
    "    video_id = url.rsplit('/', 1)[-1]\n",
    "    src = f'https://mediaspace.illinois.edu/embed/secure/iframe/entryId/{video_id}?st=0'\n",
    "    display(IFrame(src, width=width, height=height))\n",
    "    display(HTML(f'<a href=\"{url}\" target=\"_blank\">Go to video on Illinois Mediaspace</a>'))"
   ]
  },
  {
   "cell_type": "markdown",
   "id": "9916514f",
   "metadata": {},
   "source": [
    "# 2. Derive models"
   ]
  },
  {
   "cell_type": "markdown",
   "id": "35c1d51d",
   "metadata": {},
   "source": [
    "## 2.1 Define symbolic variables"
   ]
  },
  {
   "cell_type": "markdown",
   "id": "e2ff5fef",
   "metadata": {},
   "source": [
    "Define states."
   ]
  },
  {
   "cell_type": "code",
   "execution_count": 43,
   "id": "0402b5da",
   "metadata": {},
   "outputs": [],
   "source": [
    "# components of position (meters)\n",
    "o_x, o_y, o_z = sym.symbols('o_x, o_y, o_z')\n",
    "\n",
    "# yaw, pitch, and roll angles (radians)\n",
    "psi, theta, phi = sym.symbols('psi, theta, phi')\n",
    "\n",
    "# components of linear velocity (meters / second)\n",
    "v_x, v_y, v_z = sym.symbols('v_x, v_y, v_z')"
   ]
  },
  {
   "cell_type": "markdown",
   "id": "570af22c",
   "metadata": {},
   "source": [
    "Define inputs."
   ]
  },
  {
   "cell_type": "code",
   "execution_count": 44,
   "id": "ad893cec",
   "metadata": {},
   "outputs": [],
   "source": [
    "# gyroscope measurements - components of angular velocity (radians / second)\n",
    "w_x, w_y, w_z = sym.symbols('w_x, w_y, w_z')\n",
    "\n",
    "# z-axis accelerometer measurement - specific force (meters / second^2)\n",
    "a_z = sym.symbols('a_z')"
   ]
  },
  {
   "cell_type": "markdown",
   "id": "5e97b298",
   "metadata": {},
   "source": [
    "Define outputs."
   ]
  },
  {
   "cell_type": "code",
   "execution_count": 45,
   "id": "752442f5",
   "metadata": {},
   "outputs": [],
   "source": [
    "# n_x, n_y, r = sym.symbols('n_x, n_y, r')\n",
    "lh_x, lh_y, lh_z = sym.symbols('lh_x, lh_y, lh_z')"
   ]
  },
  {
   "cell_type": "markdown",
   "id": "ed8ded70",
   "metadata": {},
   "source": [
    "Define parameters."
   ]
  },
  {
   "cell_type": "code",
   "execution_count": 46,
   "id": "e4962fab",
   "metadata": {},
   "outputs": [],
   "source": [
    "g, k_flow = sym.symbols('g, k_flow')"
   ]
  },
  {
   "cell_type": "markdown",
   "id": "7368343d",
   "metadata": {},
   "source": [
    "Create linear and angular velocity vectors (in coordinates of the body frame)."
   ]
  },
  {
   "cell_type": "code",
   "execution_count": 47,
   "id": "9d524269",
   "metadata": {},
   "outputs": [],
   "source": [
    "v_01in1 = sym.Matrix([[v_x], [v_y], [v_z]])\n",
    "w_01in1 = sym.Matrix([[w_x], [w_y], [w_z]])"
   ]
  },
  {
   "cell_type": "markdown",
   "id": "851ff168",
   "metadata": {},
   "source": [
    "## 2.2 Define kinematics of orientation"
   ]
  },
  {
   "cell_type": "markdown",
   "id": "f68e60c2",
   "metadata": {},
   "source": [
    "### 2.2.1 Rotation matrix in terms of yaw, pitch, roll angles"
   ]
  },
  {
   "cell_type": "markdown",
   "id": "3e03c29d",
   "metadata": {},
   "source": [
    "Define individual rotation matrices."
   ]
  },
  {
   "cell_type": "code",
   "execution_count": 48,
   "id": "1f70f130",
   "metadata": {},
   "outputs": [],
   "source": [
    "Rz = sym.Matrix([[sym.cos(psi), -sym.sin(psi), 0],\n",
    "                 [sym.sin(psi), sym.cos(psi), 0],\n",
    "                 [0, 0, 1]])\n",
    "\n",
    "Ry = sym.Matrix([[sym.cos(theta), 0, sym.sin(theta)],\n",
    "                 [0, 1, 0],\n",
    "                 [-sym.sin(theta), 0, sym.cos(theta)]])\n",
    "\n",
    "Rx = sym.Matrix([[1, 0, 0],\n",
    "                 [0, sym.cos(phi), -sym.sin(phi)],\n",
    "                 [0, sym.sin(phi), sym.cos(phi)]])"
   ]
  },
  {
   "cell_type": "markdown",
   "id": "e494d515",
   "metadata": {},
   "source": [
    "Apply sequential transformation to compute the rotation matrix that describes the orientation of the drone (i.e., of frame 1 in the coordinates of frame 0)."
   ]
  },
  {
   "cell_type": "code",
   "execution_count": 49,
   "id": "9a4041f3",
   "metadata": {},
   "outputs": [],
   "source": [
    "R_1in0 = Rz * Ry * Rx"
   ]
  },
  {
   "cell_type": "markdown",
   "id": "69ac916b",
   "metadata": {},
   "source": [
    "### 2.2.2 Map from angular velocity to angular rates"
   ]
  },
  {
   "cell_type": "markdown",
   "id": "bb2179ef",
   "metadata": {},
   "source": [
    "Recall that\n",
    "\n",
    "$$\\begin{bmatrix} \\dot{\\psi} \\\\ \\dot{\\theta} \\\\ \\dot{\\phi} \\end{bmatrix} = N w_{0, 1}^{1}$$\n",
    "\n",
    "for some matrix $N$. Here is how to compute that matrix for a ZYX (yaw, pitch, roll) Euler angle sequence.  First, we compute its inverse:"
   ]
  },
  {
   "cell_type": "code",
   "execution_count": 50,
   "id": "4ceedf24",
   "metadata": {},
   "outputs": [],
   "source": [
    "Ninv = sym.Matrix.hstack((Ry * Rx).T * sym.Matrix([[0], [0], [1]]),\n",
    "                              (Rx).T * sym.Matrix([[0], [1], [0]]),\n",
    "                                       sym.Matrix([[1], [0], [0]]))"
   ]
  },
  {
   "cell_type": "markdown",
   "id": "938044d2",
   "metadata": {},
   "source": [
    "Then, we compute $N$ by taking the inverse of $N^{-1}$:"
   ]
  },
  {
   "cell_type": "code",
   "execution_count": 51,
   "id": "41071e08",
   "metadata": {},
   "outputs": [],
   "source": [
    "N = sym.simplify(Ninv.inv())"
   ]
  },
  {
   "cell_type": "markdown",
   "id": "7cea7d8c",
   "metadata": {},
   "source": [
    "## 2.3 Derive equations of motion"
   ]
  },
  {
   "cell_type": "markdown",
   "id": "cdad5b0f",
   "metadata": {},
   "source": [
    "Ratio of net thrust to mass in terms of z-axis accelerometer measurement."
   ]
  },
  {
   "cell_type": "code",
   "execution_count": 52,
   "id": "6d53c0ee",
   "metadata": {},
   "outputs": [],
   "source": [
    "f_z_over_m = a_z + (w_01in1.cross(v_01in1))[2]"
   ]
  },
  {
   "cell_type": "markdown",
   "id": "c165643a",
   "metadata": {},
   "source": [
    "Ratio of forces to mass."
   ]
  },
  {
   "cell_type": "code",
   "execution_count": 53,
   "id": "5f7687be",
   "metadata": {},
   "outputs": [],
   "source": [
    "f_in1_over_m = R_1in0.T * sym.Matrix([[0], [0], [-g]]) + sym.Matrix([[0], [0], [f_z_over_m]])"
   ]
  },
  {
   "cell_type": "markdown",
   "id": "2416c08f",
   "metadata": {},
   "source": [
    "Equations of motion."
   ]
  },
  {
   "cell_type": "code",
   "execution_count": 54,
   "id": "9b552611",
   "metadata": {},
   "outputs": [],
   "source": [
    "f = sym.Matrix.vstack(\n",
    "    R_1in0 * v_01in1,\n",
    "    N * w_01in1,\n",
    "    (f_in1_over_m - w_01in1.cross(v_01in1)),\n",
    ")"
   ]
  },
  {
   "cell_type": "markdown",
   "id": "96dd4da6",
   "metadata": {},
   "source": [
    "Show equations of motion, which have the form\n",
    "\n",
    "$$\\dot{s} = f(s, i, p)$$\n",
    "\n",
    "where\n",
    "\n",
    "$$\n",
    "s = \\begin{bmatrix} o_x \\\\ o_y \\\\ o_z \\\\ \\psi \\\\ \\theta \\\\ \\phi \\\\ v_x \\\\ v_y \\\\ v_z \\end{bmatrix}\n",
    "\\qquad\\qquad\n",
    "i = \\begin{bmatrix} w_x \\\\ w_y \\\\ w_z \\\\ a_z \\end{bmatrix}\n",
    "\\qquad\\qquad\n",
    "p = \\begin{bmatrix} g \\\\ k_\\text{flow} \\end{bmatrix}.\n",
    "$$"
   ]
  },
  {
   "cell_type": "code",
   "execution_count": 55,
   "id": "e0225f66",
   "metadata": {},
   "outputs": [
    {
     "data": {
      "text/latex": [
       "$\\displaystyle \\left[\\begin{matrix}v_{x} \\cos{\\left(\\psi \\right)} \\cos{\\left(\\theta \\right)} + v_{y} \\left(\\sin{\\left(\\phi \\right)} \\sin{\\left(\\theta \\right)} \\cos{\\left(\\psi \\right)} - \\sin{\\left(\\psi \\right)} \\cos{\\left(\\phi \\right)}\\right) + v_{z} \\left(\\sin{\\left(\\phi \\right)} \\sin{\\left(\\psi \\right)} + \\sin{\\left(\\theta \\right)} \\cos{\\left(\\phi \\right)} \\cos{\\left(\\psi \\right)}\\right)\\\\v_{x} \\sin{\\left(\\psi \\right)} \\cos{\\left(\\theta \\right)} + v_{y} \\left(\\sin{\\left(\\phi \\right)} \\sin{\\left(\\psi \\right)} \\sin{\\left(\\theta \\right)} + \\cos{\\left(\\phi \\right)} \\cos{\\left(\\psi \\right)}\\right) + v_{z} \\left(- \\sin{\\left(\\phi \\right)} \\cos{\\left(\\psi \\right)} + \\sin{\\left(\\psi \\right)} \\sin{\\left(\\theta \\right)} \\cos{\\left(\\phi \\right)}\\right)\\\\- v_{x} \\sin{\\left(\\theta \\right)} + v_{y} \\sin{\\left(\\phi \\right)} \\cos{\\left(\\theta \\right)} + v_{z} \\cos{\\left(\\phi \\right)} \\cos{\\left(\\theta \\right)}\\\\\\frac{w_{y} \\sin{\\left(\\phi \\right)}}{\\cos{\\left(\\theta \\right)}} + \\frac{w_{z} \\cos{\\left(\\phi \\right)}}{\\cos{\\left(\\theta \\right)}}\\\\w_{y} \\cos{\\left(\\phi \\right)} - w_{z} \\sin{\\left(\\phi \\right)}\\\\w_{x} + w_{y} \\sin{\\left(\\phi \\right)} \\tan{\\left(\\theta \\right)} + w_{z} \\cos{\\left(\\phi \\right)} \\tan{\\left(\\theta \\right)}\\\\g \\sin{\\left(\\theta \\right)} + v_{y} w_{z} - v_{z} w_{y}\\\\- g \\sin{\\left(\\phi \\right)} \\cos{\\left(\\theta \\right)} - v_{x} w_{z} + v_{z} w_{x}\\\\a_{z} - g \\cos{\\left(\\phi \\right)} \\cos{\\left(\\theta \\right)}\\end{matrix}\\right]$"
      ],
      "text/plain": [
       "Matrix([\n",
       "[ v_x*cos(psi)*cos(theta) + v_y*(sin(phi)*sin(theta)*cos(psi) - sin(psi)*cos(phi)) + v_z*(sin(phi)*sin(psi) + sin(theta)*cos(phi)*cos(psi))],\n",
       "[v_x*sin(psi)*cos(theta) + v_y*(sin(phi)*sin(psi)*sin(theta) + cos(phi)*cos(psi)) + v_z*(-sin(phi)*cos(psi) + sin(psi)*sin(theta)*cos(phi))],\n",
       "[                                                                       -v_x*sin(theta) + v_y*sin(phi)*cos(theta) + v_z*cos(phi)*cos(theta)],\n",
       "[                                                                                         w_y*sin(phi)/cos(theta) + w_z*cos(phi)/cos(theta)],\n",
       "[                                                                                                               w_y*cos(phi) - w_z*sin(phi)],\n",
       "[                                                                                   w_x + w_y*sin(phi)*tan(theta) + w_z*cos(phi)*tan(theta)],\n",
       "[                                                                                                          g*sin(theta) + v_y*w_z - v_z*w_y],\n",
       "[                                                                                                -g*sin(phi)*cos(theta) - v_x*w_z + v_z*w_x],\n",
       "[                                                                                                               a_z - g*cos(phi)*cos(theta)]])"
      ]
     },
     "execution_count": 55,
     "metadata": {},
     "output_type": "execute_result"
    }
   ],
   "source": [
    "f"
   ]
  },
  {
   "cell_type": "markdown",
   "id": "95fadd35",
   "metadata": {},
   "source": [
    "## 2.4 Derive measurement equations"
   ]
  },
  {
   "cell_type": "markdown",
   "id": "cc526623",
   "metadata": {},
   "source": [
    "Create measurement equations."
   ]
  },
  {
   "cell_type": "code",
   "execution_count": 56,
   "id": "ae02761c",
   "metadata": {},
   "outputs": [],
   "source": [
    "h = sym.Matrix([\n",
    "    o_x,        # <-- x flow (n_x)\n",
    "    o_y,        # <-- y flow (n_y)\n",
    "    o_z,   # <-- z range (r)\n",
    "])"
   ]
  },
  {
   "cell_type": "markdown",
   "id": "b64e7122",
   "metadata": {},
   "source": [
    "Show measurement equations, which have the form\n",
    "\n",
    "$$o = h(s, i, p)$$\n",
    "\n",
    "where\n",
    "\n",
    "$$\n",
    "o = \\begin{bmatrix} lh_x \\\\ lh_y \\\\ lh_z \\end{bmatrix}\n",
    "\\qquad\\qquad\n",
    "s = \\begin{bmatrix} o_x \\\\ o_y \\\\ o_z \\\\ \\psi \\\\ \\theta \\\\ \\phi \\\\ v_x \\\\ v_y \\\\ v_z \\end{bmatrix}\n",
    "\\qquad\\qquad\n",
    "i = \\begin{bmatrix} w_x \\\\ w_y \\\\ w_z \\\\ a_z \\end{bmatrix}\n",
    "\\qquad\\qquad\n",
    "p = \\begin{bmatrix} g \\\\ k_\\text{flow} \\end{bmatrix}.\n",
    "$$"
   ]
  },
  {
   "cell_type": "code",
   "execution_count": 57,
   "id": "abf5e366",
   "metadata": {},
   "outputs": [
    {
     "data": {
      "text/latex": [
       "$\\displaystyle \\left[\\begin{matrix}o_{x}\\\\o_{y}\\\\o_{z}\\end{matrix}\\right]$"
      ],
      "text/plain": [
       "Matrix([\n",
       "[o_x],\n",
       "[o_y],\n",
       "[o_z]])"
      ]
     },
     "execution_count": 57,
     "metadata": {},
     "output_type": "execute_result"
    }
   ],
   "source": [
    "h"
   ]
  },
  {
   "cell_type": "markdown",
   "id": "c85ab58b",
   "metadata": {},
   "source": [
    "# 3. Derive state-space model"
   ]
  },
  {
   "cell_type": "markdown",
   "id": "e6b8cfa6",
   "metadata": {},
   "source": [
    "## 3.1 Choose equilibrium point\n",
    "\n",
    "An equilibrium point of the nonlinear system is a choice of states $s_\\text{eq}$ and inputs $i_\\text{eq}$ - along with constant parameters $p_\\text{eq}$ - for which\n",
    "\n",
    "$$0 = f(s_\\text{eq}, i_\\text{eq}, p_\\text{eq}).$$"
   ]
  },
  {
   "cell_type": "markdown",
   "id": "83720d07",
   "metadata": {},
   "source": [
    "Create a symbolic variable to describe the equilibrium value of $o_z$."
   ]
  },
  {
   "cell_type": "code",
   "execution_count": 58,
   "id": "0477758d",
   "metadata": {},
   "outputs": [],
   "source": [
    "o_z_eq = sym.symbols('o_z_eq')"
   ]
  },
  {
   "cell_type": "markdown",
   "id": "23a46233",
   "metadata": {},
   "source": [
    "Create a list of states, inputs, outputs, and parameters as symbolic variables."
   ]
  },
  {
   "cell_type": "code",
   "execution_count": 59,
   "id": "eeacb689",
   "metadata": {},
   "outputs": [],
   "source": [
    "s = [o_x, o_y, o_z, psi, theta, phi, v_x, v_y, v_z]\n",
    "i = [w_x, w_y, w_z, a_z]\n",
    "o = [lh_x, lh_y, lh_z]\n",
    "p = [g, k_flow]"
   ]
  },
  {
   "cell_type": "markdown",
   "id": "00be2a17",
   "metadata": {},
   "source": [
    "Create a list of state and input values at equilibrium in the **same order** as before."
   ]
  },
  {
   "cell_type": "code",
   "execution_count": 60,
   "id": "33615984",
   "metadata": {},
   "outputs": [],
   "source": [
    "s_eq = [0, 0, o_z_eq, 0, 0, 0, 0, 0, 0]\n",
    "i_eq = [0, 0, 0, g]"
   ]
  },
  {
   "cell_type": "markdown",
   "id": "a3ad7c27",
   "metadata": {},
   "source": [
    "Make sure all equilibrium values are symbolic."
   ]
  },
  {
   "cell_type": "code",
   "execution_count": 61,
   "id": "f027828b",
   "metadata": {},
   "outputs": [],
   "source": [
    "s_eq = [sym.nsimplify(a) for a in s_eq]\n",
    "i_eq = [sym.nsimplify(a) for a in i_eq]"
   ]
  },
  {
   "cell_type": "markdown",
   "id": "698fa462",
   "metadata": {},
   "source": [
    "Evaluate the equations of motion at the equilibrium point - if it actually *is* an equilibrium point, then the result should be a matrix of zeros:"
   ]
  },
  {
   "cell_type": "code",
   "execution_count": 62,
   "id": "1d5187cf",
   "metadata": {},
   "outputs": [
    {
     "data": {
      "text/latex": [
       "$\\displaystyle \\left[\\begin{matrix}0\\\\0\\\\0\\\\0\\\\0\\\\0\\\\0\\\\0\\\\0\\end{matrix}\\right]$"
      ],
      "text/plain": [
       "Matrix([\n",
       "[0],\n",
       "[0],\n",
       "[0],\n",
       "[0],\n",
       "[0],\n",
       "[0],\n",
       "[0],\n",
       "[0],\n",
       "[0]])"
      ]
     },
     "execution_count": 62,
     "metadata": {},
     "output_type": "execute_result"
    }
   ],
   "source": [
    "f.subs(tuple(zip(s, s_eq))).subs(tuple(zip(i, i_eq)))"
   ]
  },
  {
   "cell_type": "markdown",
   "id": "9f08717f",
   "metadata": {},
   "source": [
    "## 3.2 Find $A$, $B$, $C$, and $D$"
   ]
  },
  {
   "cell_type": "markdown",
   "id": "ec464ec5",
   "metadata": {},
   "source": [
    "Recall that:\n",
    "\n",
    "$$\n",
    "A = \\frac{\\partial f}{\\partial s}\\biggr\\vert_{(s, i, p) = (s_\\text{eq}, i_\\text{eq}, p_\\text{eq})}\n",
    "\\qquad\\quad\n",
    "B = \\frac{\\partial f}{\\partial i}\\biggr\\vert_{(s, i, p) = (s_\\text{eq}, i_\\text{eq}, p_\\text{eq})}\n",
    "\\qquad\\quad\n",
    "C = \\frac{\\partial h}{\\partial s}\\biggr\\vert_{(s, i, p) = (s_\\text{eq}, i_\\text{eq}, p_\\text{eq})}\n",
    "\\qquad\\quad\n",
    "D = \\frac{\\partial h}{\\partial i}\\biggr\\vert_{(s, i, p) = (s_\\text{eq}, i_\\text{eq}, p_\\text{eq})}.\n",
    "$$\n",
    "\n",
    "Compute each Jacobian and plug in the equilibrium values as follows."
   ]
  },
  {
   "cell_type": "code",
   "execution_count": 63,
   "id": "8f5f9756",
   "metadata": {},
   "outputs": [],
   "source": [
    "A = f.jacobian(s).subs(tuple(zip(s, s_eq))).subs(tuple(zip(i, i_eq)))\n",
    "B = f.jacobian(i).subs(tuple(zip(s, s_eq))).subs(tuple(zip(i, i_eq)))\n",
    "C = h.jacobian(s).subs(tuple(zip(s, s_eq))).subs(tuple(zip(i, i_eq)))\n",
    "D = h.jacobian(i).subs(tuple(zip(s, s_eq))).subs(tuple(zip(i, i_eq)))"
   ]
  },
  {
   "cell_type": "markdown",
   "id": "8a51ab81",
   "metadata": {},
   "source": [
    "Show $A$:"
   ]
  },
  {
   "cell_type": "code",
   "execution_count": 64,
   "id": "6f876ad2",
   "metadata": {},
   "outputs": [
    {
     "data": {
      "text/latex": [
       "$\\displaystyle \\left[\\begin{matrix}0 & 0 & 0 & 0 & 0 & 0 & 1 & 0 & 0\\\\0 & 0 & 0 & 0 & 0 & 0 & 0 & 1 & 0\\\\0 & 0 & 0 & 0 & 0 & 0 & 0 & 0 & 1\\\\0 & 0 & 0 & 0 & 0 & 0 & 0 & 0 & 0\\\\0 & 0 & 0 & 0 & 0 & 0 & 0 & 0 & 0\\\\0 & 0 & 0 & 0 & 0 & 0 & 0 & 0 & 0\\\\0 & 0 & 0 & 0 & g & 0 & 0 & 0 & 0\\\\0 & 0 & 0 & 0 & 0 & - g & 0 & 0 & 0\\\\0 & 0 & 0 & 0 & 0 & 0 & 0 & 0 & 0\\end{matrix}\\right]$"
      ],
      "text/plain": [
       "Matrix([\n",
       "[0, 0, 0, 0, 0,  0, 1, 0, 0],\n",
       "[0, 0, 0, 0, 0,  0, 0, 1, 0],\n",
       "[0, 0, 0, 0, 0,  0, 0, 0, 1],\n",
       "[0, 0, 0, 0, 0,  0, 0, 0, 0],\n",
       "[0, 0, 0, 0, 0,  0, 0, 0, 0],\n",
       "[0, 0, 0, 0, 0,  0, 0, 0, 0],\n",
       "[0, 0, 0, 0, g,  0, 0, 0, 0],\n",
       "[0, 0, 0, 0, 0, -g, 0, 0, 0],\n",
       "[0, 0, 0, 0, 0,  0, 0, 0, 0]])"
      ]
     },
     "execution_count": 64,
     "metadata": {},
     "output_type": "execute_result"
    }
   ],
   "source": [
    "A"
   ]
  },
  {
   "cell_type": "markdown",
   "id": "c7194051",
   "metadata": {},
   "source": [
    "Show $B$:"
   ]
  },
  {
   "cell_type": "code",
   "execution_count": 65,
   "id": "fe5b48cf",
   "metadata": {},
   "outputs": [
    {
     "data": {
      "text/latex": [
       "$\\displaystyle \\left[\\begin{matrix}0 & 0 & 0 & 0\\\\0 & 0 & 0 & 0\\\\0 & 0 & 0 & 0\\\\0 & 0 & 1 & 0\\\\0 & 1 & 0 & 0\\\\1 & 0 & 0 & 0\\\\0 & 0 & 0 & 0\\\\0 & 0 & 0 & 0\\\\0 & 0 & 0 & 1\\end{matrix}\\right]$"
      ],
      "text/plain": [
       "Matrix([\n",
       "[0, 0, 0, 0],\n",
       "[0, 0, 0, 0],\n",
       "[0, 0, 0, 0],\n",
       "[0, 0, 1, 0],\n",
       "[0, 1, 0, 0],\n",
       "[1, 0, 0, 0],\n",
       "[0, 0, 0, 0],\n",
       "[0, 0, 0, 0],\n",
       "[0, 0, 0, 1]])"
      ]
     },
     "execution_count": 65,
     "metadata": {},
     "output_type": "execute_result"
    }
   ],
   "source": [
    "B"
   ]
  },
  {
   "cell_type": "markdown",
   "id": "5146c9fc",
   "metadata": {},
   "source": [
    "Show $C$:"
   ]
  },
  {
   "cell_type": "code",
   "execution_count": 66,
   "id": "b832916c",
   "metadata": {},
   "outputs": [
    {
     "data": {
      "text/latex": [
       "$\\displaystyle \\left[\\begin{matrix}1 & 0 & 0 & 0 & 0 & 0 & 0 & 0 & 0\\\\0 & 1 & 0 & 0 & 0 & 0 & 0 & 0 & 0\\\\0 & 0 & 1 & 0 & 0 & 0 & 0 & 0 & 0\\end{matrix}\\right]$"
      ],
      "text/plain": [
       "Matrix([\n",
       "[1, 0, 0, 0, 0, 0, 0, 0, 0],\n",
       "[0, 1, 0, 0, 0, 0, 0, 0, 0],\n",
       "[0, 0, 1, 0, 0, 0, 0, 0, 0]])"
      ]
     },
     "execution_count": 66,
     "metadata": {},
     "output_type": "execute_result"
    }
   ],
   "source": [
    "C"
   ]
  },
  {
   "cell_type": "markdown",
   "id": "337a9211",
   "metadata": {},
   "source": [
    "Show $D$ (note that it is *not* zero in this case):"
   ]
  },
  {
   "cell_type": "code",
   "execution_count": 67,
   "id": "aa9db517",
   "metadata": {},
   "outputs": [
    {
     "data": {
      "text/latex": [
       "$\\displaystyle \\left[\\begin{matrix}0 & 0 & 0 & 0\\\\0 & 0 & 0 & 0\\\\0 & 0 & 0 & 0\\end{matrix}\\right]$"
      ],
      "text/plain": [
       "Matrix([\n",
       "[0, 0, 0, 0],\n",
       "[0, 0, 0, 0],\n",
       "[0, 0, 0, 0]])"
      ]
     },
     "execution_count": 67,
     "metadata": {},
     "output_type": "execute_result"
    }
   ],
   "source": [
    "D"
   ]
  },
  {
   "cell_type": "markdown",
   "id": "84e4fd12",
   "metadata": {},
   "source": [
    "## 3.3 Write linearized models"
   ]
  },
  {
   "cell_type": "markdown",
   "id": "ffe77afb",
   "metadata": {},
   "source": [
    "Define the state, input, and output of the state-space system (i.e., the linearized model of the equations of motion and of the measurement equations)."
   ]
  },
  {
   "cell_type": "code",
   "execution_count": 68,
   "id": "3bf4752b",
   "metadata": {},
   "outputs": [],
   "source": [
    "x = sym.Matrix(s) - sym.Matrix(s_eq)\n",
    "u = sym.Matrix(i) - sym.Matrix(i_eq)\n",
    "y = sym.Matrix(o) - h.subs(tuple(zip(s, s_eq))).subs(tuple(zip(i, i_eq)))"
   ]
  },
  {
   "cell_type": "markdown",
   "id": "2f5ce3e2",
   "metadata": {},
   "source": [
    "Show the linearized equations of motion $Ax+Bu$."
   ]
  },
  {
   "cell_type": "code",
   "execution_count": 69,
   "id": "e961e268",
   "metadata": {},
   "outputs": [
    {
     "data": {
      "text/latex": [
       "$\\displaystyle \\left[\\begin{matrix}v_{x}\\\\v_{y}\\\\v_{z}\\\\w_{z}\\\\w_{y}\\\\w_{x}\\\\g \\theta\\\\- g \\phi\\\\a_{z} - g\\end{matrix}\\right]$"
      ],
      "text/plain": [
       "Matrix([\n",
       "[    v_x],\n",
       "[    v_y],\n",
       "[    v_z],\n",
       "[    w_z],\n",
       "[    w_y],\n",
       "[    w_x],\n",
       "[g*theta],\n",
       "[ -g*phi],\n",
       "[a_z - g]])"
      ]
     },
     "execution_count": 69,
     "metadata": {},
     "output_type": "execute_result"
    }
   ],
   "source": [
    "A * x + B * u"
   ]
  },
  {
   "cell_type": "markdown",
   "id": "4a11372b",
   "metadata": {},
   "source": [
    "Show the linearized measurement equations $Cx+Du$."
   ]
  },
  {
   "cell_type": "code",
   "execution_count": 70,
   "id": "c8640ffd",
   "metadata": {},
   "outputs": [
    {
     "data": {
      "text/latex": [
       "$\\displaystyle \\left[\\begin{matrix}o_{x}\\\\o_{y}\\\\o_{z} - o_{z eq}\\end{matrix}\\right]$"
      ],
      "text/plain": [
       "Matrix([\n",
       "[         o_x],\n",
       "[         o_y],\n",
       "[o_z - o_z_eq]])"
      ]
     },
     "execution_count": 70,
     "metadata": {},
     "output_type": "execute_result"
    }
   ],
   "source": [
    "C * x + D * u"
   ]
  },
  {
   "cell_type": "markdown",
   "id": "a7a63194",
   "metadata": {},
   "source": [
    "Show the output (which our model tells us should be $Cx+Du$)."
   ]
  },
  {
   "cell_type": "code",
   "execution_count": 71,
   "id": "6f274e8e",
   "metadata": {},
   "outputs": [
    {
     "data": {
      "text/latex": [
       "$\\displaystyle \\left[\\begin{matrix}lh_{x}\\\\lh_{y}\\\\lh_{z} - o_{z eq}\\end{matrix}\\right]$"
      ],
      "text/plain": [
       "Matrix([\n",
       "[         lh_x],\n",
       "[         lh_y],\n",
       "[lh_z - o_z_eq]])"
      ]
     },
     "execution_count": 71,
     "metadata": {},
     "output_type": "execute_result"
    }
   ],
   "source": [
    "y"
   ]
  },
  {
   "cell_type": "markdown",
   "id": "ebc8a979",
   "metadata": {},
   "source": [
    "# 4. Study error in linearized models"
   ]
  },
  {
   "cell_type": "markdown",
   "id": "04a75ca9",
   "metadata": {},
   "source": [
    "#### Describe the flight test"
   ]
  },
  {
   "cell_type": "markdown",
   "id": "01ad6abf",
   "metadata": {},
   "source": [
    "Replace this cell with the following information, at minimum:\n",
    "\n",
    "* A description of the flight trajectory, both in words and (if you like) a snippet of code from `flight.py`.\n",
    "\n",
    "```python \n",
    "    # Take off and hover (with zero yaw)\n",
    "    client.move(0.0, 0.0, 0.15, 0.0, 1.0)\n",
    "    client.move(0.0, 0.0, 0.5, 0.0, 1.0)\n",
    "    client.move_smooth([0.0, 0.0, 0.15], [0.0, 0.0, 0.5], 0.0, 0.2)\n",
    "    client.move(0.0, 0.0, 0.5, 0.0, 1.0)\n",
    "    print(\"in hover\")\n",
    "  \n",
    "   # Fly in a square\n",
    "    client.move_smooth([0.0, 0.0, 0.5], [0.5, 0.0, 0.5], 0.0, 0.2)\n",
    "    client.move(0.5, 0.0, 0.5, 0.0, 1.0)\n",
    "    client.move_smooth([0.5, 0.0, 0.5], [0.5, 0.5, 0.5], 0.0, 0.2)\n",
    "    client.move(0.5, 0.5, 0.5, 0.0, 1.0)\n",
    "    client.move_smooth([0.5, 0.5, 0.5], [0.0, 0.5, 0.5], 0.0, 0.2)\n",
    "    client.move(0.0, 0.5, 0.5, 0.0, 1.0)\n",
    "    client.move_smooth([0.0, 0.5, 0.5], [0.0, 0.0, 0.5], 0.0, 0.2)\n",
    "    print(\"finished square\")\n",
    "    \n",
    "    # Go back to hover (with zero yaw) and prepare to land\n",
    "    client.move(0.0, 0.0, 0.5, 0.0, 1.0)\n",
    "    client.move_smooth([0.0, 0.0, 0.5], [0.0, 0.0, 0.15], 0.0, 0.2)\n",
    "    client.move(0.0, 0.0, 0.15, 0.0, 1.0)\n",
    "    print(\"land\")\n",
    "    # Land\n",
    "    \n",
    "\n",
    "```\n",
    "* A description of the flight conditions (e.g., where was the flight conducted, did you power cycle the drone just before flying, were you using the positioning system or only the onboard sensors, etc.)."
   ]
  },
  {
   "cell_type": "markdown",
   "id": "c5f8e3cf",
   "metadata": {},
   "source": [
    "#### Show a video of the flight test"
   ]
  },
  {
   "cell_type": "markdown",
   "id": "60d73c65",
   "metadata": {},
   "source": [
    "In the following cell, show a video of your hardware flight test (change the url as appropriate)."
   ]
  },
  {
   "cell_type": "code",
   "execution_count": 72,
   "id": "81fef502",
   "metadata": {},
   "outputs": [
    {
     "data": {
      "text/html": [
       "\n",
       "        <iframe\n",
       "            width=\"640\"\n",
       "            height=\"397\"\n",
       "            src=\"https://mediaspace.illinois.edu/embed/secure/iframe/entryId/YOUR_VIDEO_ID?st=0\"\n",
       "            frameborder=\"0\"\n",
       "            allowfullscreen\n",
       "            \n",
       "        ></iframe>\n",
       "        "
      ],
      "text/plain": [
       "<IPython.lib.display.IFrame at 0x1c5c1076890>"
      ]
     },
     "metadata": {},
     "output_type": "display_data"
    },
    {
     "data": {
      "text/html": [
       "<a href=\"https://mediaspace.illinois.edu/media/t/YOUR_VIDEO_ID\" target=\"_blank\">Go to video on Illinois Mediaspace</a>"
      ],
      "text/plain": [
       "<IPython.core.display.HTML object>"
      ]
     },
     "metadata": {},
     "output_type": "display_data"
    }
   ],
   "source": [
    "# FIXME (REPLACE URL TO SHOW A VIDEO OF YOUR FLIGHT)\n",
    "mediaspace('https://mediaspace.illinois.edu/media/t/YOUR_VIDEO_ID')"
   ]
  },
  {
   "cell_type": "markdown",
   "id": "ae8c43b8",
   "metadata": {},
   "source": [
    "## 4.1 Load and parse flight data"
   ]
  },
  {
   "cell_type": "markdown",
   "id": "b0595b11",
   "metadata": {},
   "source": [
    "Load flight data."
   ]
  },
  {
   "cell_type": "code",
   "execution_count": 76,
   "id": "47700e3a",
   "metadata": {},
   "outputs": [],
   "source": [
    "data = load_hardware_data(\n",
    "    'lab7_flight4.json',  # <-- replace with name of file with hardware data\n",
    "    t_min_offset=0.,       # <-- (optional) replace with how many seconds of data to ignore at start\n",
    "    t_max_offset=0.,       # <-- (optional) replace with how many seconds of data to ignore at end\n",
    "    only_in_flight=True,   # <-- (optional) only loads data for which o_z_des is positive\n",
    ")"
   ]
  },
  {
   "cell_type": "markdown",
   "id": "a3da710f",
   "metadata": {},
   "source": [
    "Parse flight data."
   ]
  },
  {
   "cell_type": "code",
   "execution_count": 79,
   "id": "79cf7453",
   "metadata": {},
   "outputs": [],
   "source": [
    "# time\n",
    "t = data['time']\n",
    "\n",
    "# states [assuming flight with default observor]\n",
    "o_x = data['ae483log.o_x']\n",
    "o_y = data['ae483log.o_y']\n",
    "o_z = data['ae483log.o_z']\n",
    "psi = data['ae483log.psi']\n",
    "theta = data['ae483log.theta']\n",
    "phi = data['ae483log.phi']\n",
    "v_x = data['ae483log.v_x']\n",
    "v_y = data['ae483log.v_y']\n",
    "v_z = data['ae483log.v_z']\n",
    "\n",
    "# inputs\n",
    "w_x = data['ae483log.w_x']\n",
    "w_y = data['ae483log.w_y']\n",
    "w_z = data['ae483log.w_z']\n",
    "a_z = data['ae483log.a_z']\n",
    "\n",
    "# lighthouse measurements (inputs or outputs?)\n",
    "lh_x = data['lighthouse.x']\n",
    "lh_y = data['lighthouse.y']\n",
    "lh_z = data['lighthouse.z']\n",
    "\n",
    "# \"stateEstimates from default observor? \n",
    "stateEstimatex = data['stateEstimate.x']\n",
    "stateEstimatey = data['stateEstimate.y']\n",
    "\n",
    "# outputs\n",
    "# n_x = data['ae483log.n_x']\n",
    "# n_y = data['ae483log.n_y']\n",
    "# r = data['ae483log.r']"
   ]
  },
  {
   "cell_type": "code",
   "execution_count": 81,
   "id": "23516ec9",
   "metadata": {},
   "outputs": [
    {
     "data": {
      "text/plain": [
       "[<matplotlib.lines.Line2D at 0x1c5c246bdc0>]"
      ]
     },
     "execution_count": 81,
     "metadata": {},
     "output_type": "execute_result"
    },
    {
     "data": {
      "image/png": "[encoded data removed]",
      "text/plain": [
       "<Figure size 640x480 with 1 Axes>"
      ]
     },
     "metadata": {},
     "output_type": "display_data"
    }
   ],
   "source": [
    "# sanity check. did the drone record?\n",
    "plt.plot(lh_x, lh_y) # from lighthouse.x and lighthouse.y\n",
    "plt.plot(stateEstimatex, stateEstimatey) # from stateEstimate.x and stateEstimate.y"
   ]
  },
  {
   "cell_type": "markdown",
   "id": "278e3ab6",
   "metadata": {},
   "source": [
    "Find time step (should be 0.01)."
   ]
  },
  {
   "cell_type": "code",
   "execution_count": null,
   "id": "97cd0625",
   "metadata": {},
   "outputs": [],
   "source": [
    "dt = t[1] - t[0]\n",
    "print(f'dt = {dt:.4f}')"
   ]
  },
  {
   "cell_type": "markdown",
   "id": "e84b8658",
   "metadata": {},
   "source": [
    "Define numerical values of each parameter."
   ]
  },
  {
   "cell_type": "code",
   "execution_count": null,
   "id": "23d3a3e1",
   "metadata": {},
   "outputs": [],
   "source": [
    "# Acceleration of gravity\n",
    "g = 9.81\n",
    "\n",
    "# Optical flow constant (do not modify)\n",
    "k_flow = 0.01 * 30.0 / np.deg2rad(4.2)\n",
    "\n",
    "# Equilibrium value of o_z\n",
    "o_z_eq = 0.0 # <-- FIXME"
   ]
  },
  {
   "cell_type": "markdown",
   "id": "7a857dab",
   "metadata": {},
   "source": [
    "## 4.2 Error in linearized equations of motion"
   ]
  },
  {
   "cell_type": "markdown",
   "id": "24c0503a",
   "metadata": {},
   "source": [
    "### 4.2.1 Error in linear model of $\\dot{o}_x$"
   ]
  },
  {
   "cell_type": "markdown",
   "id": "80fb1ee1",
   "metadata": {},
   "source": [
    "Approximate $\\dot{o}_x$ by finite difference and call this \"ground truth.\""
   ]
  },
  {
   "cell_type": "code",
   "execution_count": null,
   "id": "c655d831",
   "metadata": {},
   "outputs": [],
   "source": [
    "o_x_dot_true = (o_x[1:] - o_x[:-1]) / dt"
   ]
  },
  {
   "cell_type": "markdown",
   "id": "cffed3f9",
   "metadata": {},
   "source": [
    "Remember that, because of the way it is computed, the length of the finite difference approximation `o_x_dot_true` is one less than the length of `o_x` (and of `t`):"
   ]
  },
  {
   "cell_type": "code",
   "execution_count": null,
   "id": "5c3e24b2",
   "metadata": {},
   "outputs": [],
   "source": [
    "print(f'len(o_x_dot_true) = {len(o_x_dot_true)}')\n",
    "print(f'         len(o_x) = {len(o_x)}')\n",
    "print(f'           len(t) = {len(t)}')"
   ]
  },
  {
   "cell_type": "markdown",
   "id": "55a2f359",
   "metadata": {},
   "source": [
    "Predict $\\dot{o}_x$ with linearized equations of motion.\n",
    "\n",
    "In particular, note that the first element of $\\dot{x}$ is $\\dot{o}_x$, and that the first element of $Ax+Bu$ is $v_x$. So, our state-space model tells us that $\\dot{o}_x \\approx v_x$."
   ]
  },
  {
   "cell_type": "code",
   "execution_count": null,
   "id": "c1a09a61",
   "metadata": {},
   "outputs": [],
   "source": [
    "o_x_dot_predicted = v_x"
   ]
  },
  {
   "cell_type": "markdown",
   "id": "b6b73661",
   "metadata": {},
   "source": [
    "Compare the true value and the predicted values of $\\dot{o}_x$ in a plot."
   ]
  },
  {
   "cell_type": "code",
   "execution_count": null,
   "id": "605896b2",
   "metadata": {},
   "outputs": [],
   "source": [
    "plt.figure(figsize=(10, 5))\n",
    "plt.plot(t[:-1], o_x_dot_true, label='$\\dot{o}_x$ (true)', linewidth=1)\n",
    "plt.plot(t, o_x_dot_predicted, '--', label='$\\dot{o}_x$ (predicted)', linewidth=2)\n",
    "plt.legend(fontsize=14)\n",
    "plt.xticks(fontsize=14)\n",
    "plt.yticks(fontsize=14)\n",
    "plt.xlabel('time (s)', fontsize=14)\n",
    "plt.show()"
   ]
  },
  {
   "cell_type": "markdown",
   "id": "d4e3ecb2",
   "metadata": {},
   "source": [
    "Compute the error in the linear model, i.e., the difference between the predicted and true values of $\\dot{o}_x$."
   ]
  },
  {
   "cell_type": "code",
   "execution_count": null,
   "id": "8f967476",
   "metadata": {},
   "outputs": [],
   "source": [
    "o_x_dot_err = o_x_dot_predicted[:-1] - o_x_dot_true"
   ]
  },
  {
   "cell_type": "markdown",
   "id": "07fc4ae0",
   "metadata": {},
   "source": [
    "Plot a histogram of the error, showing mean and standard deviation."
   ]
  },
  {
   "cell_type": "code",
   "execution_count": null,
   "id": "2e297d61",
   "metadata": {},
   "outputs": [],
   "source": [
    "plt.figure(figsize=(5, 5))\n",
    "plt.hist(o_x_dot_err, 50)\n",
    "plt.xlabel('error', fontsize=14)\n",
    "plt.ylabel('count', fontsize=14)\n",
    "plt.xticks(fontsize=14)\n",
    "plt.yticks(fontsize=14)\n",
    "plt.title(\n",
    "    'Error in prediction of $\\dot{o}_x$\\n' +\n",
    "    f'(mean = {np.mean(o_x_dot_err):6.3f}, std = {np.std(o_x_dot_err):6.3f})',\n",
    "    fontsize=14,\n",
    ")\n",
    "plt.show()"
   ]
  },
  {
   "cell_type": "markdown",
   "id": "0882bc72",
   "metadata": {},
   "source": [
    "### 4.2.2 Error in linear model of $\\dot{o}_y$"
   ]
  },
  {
   "cell_type": "markdown",
   "id": "87eb8924",
   "metadata": {},
   "source": [
    "### 4.2.3 Error in linear model of $\\dot{o}_z$"
   ]
  },
  {
   "cell_type": "markdown",
   "id": "e4859dec",
   "metadata": {},
   "source": [
    "### 4.2.4 Error in linear model of $\\dot{\\psi}$"
   ]
  },
  {
   "cell_type": "markdown",
   "id": "5b287bdd",
   "metadata": {},
   "source": [
    "### 4.2.5 Error in linear model of $\\dot{\\theta}$"
   ]
  },
  {
   "cell_type": "markdown",
   "id": "316fe991",
   "metadata": {},
   "source": [
    "### 4.2.6 Error in linear model of $\\dot{\\phi}$"
   ]
  },
  {
   "cell_type": "markdown",
   "id": "fe1ad062",
   "metadata": {},
   "source": [
    "### 4.2.7 Error in linear model of $\\dot{v}_x$"
   ]
  },
  {
   "cell_type": "markdown",
   "id": "7d1119e9",
   "metadata": {},
   "source": [
    "### 4.2.8 Error in linear model of $\\dot{v}_y$"
   ]
  },
  {
   "cell_type": "markdown",
   "id": "6092b34a",
   "metadata": {},
   "source": [
    "### 4.2.9 Error in linear model of $\\dot{v}_z$"
   ]
  },
  {
   "cell_type": "markdown",
   "id": "141272d6",
   "metadata": {},
   "source": [
    "## 4.3 Error in linearized measurement equations"
   ]
  },
  {
   "cell_type": "markdown",
   "id": "49d60e7a",
   "metadata": {},
   "source": [
    "### 4.3.1 Error in linear model of $n_x$"
   ]
  },
  {
   "cell_type": "markdown",
   "id": "7e8206e1",
   "metadata": {},
   "source": [
    "Predict $n_x$ with the linearized measurement equations.\n",
    "\n",
    "In particular, note that the first element of $y$ is $n_x$, and that the first element of $Cx+Du$ is\n",
    "\n",
    "$$k_\\text{flow} \\left( \\dfrac{v_x}{o_\\text{z, eq}} - w_y \\right),$$\n",
    "\n",
    "so our linear model tells us that\n",
    "\n",
    "$$n_x \\approx k_\\text{flow} \\left( \\dfrac{v_x}{o_\\text{z, eq}} - w_y \\right).$$"
   ]
  },
  {
   "cell_type": "code",
   "execution_count": null,
   "id": "8b0e0d48",
   "metadata": {},
   "outputs": [],
   "source": [
    "n_x_predicted = k_flow * ((v_x / o_z_eq) - w_y)"
   ]
  },
  {
   "cell_type": "markdown",
   "id": "53f90d4d",
   "metadata": {},
   "source": [
    "Compare the true value and the predicted values of $n_x$ in a plot."
   ]
  },
  {
   "cell_type": "code",
   "execution_count": null,
   "id": "598126a4",
   "metadata": {},
   "outputs": [],
   "source": [
    "plt.figure(figsize=(10, 5))\n",
    "plt.plot(t, n_x, label='$n_x$ (true)', linewidth=1)\n",
    "plt.plot(t, n_x_predicted, '--', label='$n_x$ (predicted)', linewidth=2)\n",
    "plt.legend(fontsize=14)\n",
    "plt.xticks(fontsize=14)\n",
    "plt.yticks(fontsize=14)\n",
    "plt.xlabel('time (s)', fontsize=14)\n",
    "plt.show()"
   ]
  },
  {
   "cell_type": "markdown",
   "id": "54177399",
   "metadata": {},
   "source": [
    "Compute the error in the linear model, i.e., the difference between the predicted and true values of $n_x$."
   ]
  },
  {
   "cell_type": "code",
   "execution_count": null,
   "id": "7b5beabe",
   "metadata": {},
   "outputs": [],
   "source": [
    "n_x_err = n_x_predicted - n_x"
   ]
  },
  {
   "cell_type": "markdown",
   "id": "8cb3088b",
   "metadata": {},
   "source": [
    "Plot a histogram of the error, showing mean and standard deviation."
   ]
  },
  {
   "cell_type": "code",
   "execution_count": null,
   "id": "20266d84",
   "metadata": {},
   "outputs": [],
   "source": [
    "plt.figure(figsize=(5, 5))\n",
    "plt.hist(n_x_err, 50)\n",
    "plt.xlabel('error', fontsize=14)\n",
    "plt.ylabel('count', fontsize=14)\n",
    "plt.xticks(fontsize=14)\n",
    "plt.yticks(fontsize=14)\n",
    "plt.title(\n",
    "    'Error in prediction of $n_x$\\n' +\n",
    "    f'(mean = {np.mean(n_x_err):6.3f}, std = {np.std(n_x_err):6.3f})',\n",
    "    fontsize=14,\n",
    ")\n",
    "plt.show()"
   ]
  },
  {
   "cell_type": "markdown",
   "id": "2accd8ad",
   "metadata": {},
   "source": [
    "### 4.3.2 Error in linear model of $n_y$"
   ]
  },
  {
   "cell_type": "markdown",
   "id": "edd916d1",
   "metadata": {},
   "source": [
    "### 4.3.3 Error in linear model of $r$"
   ]
  },
  {
   "cell_type": "markdown",
   "id": "0e81acbd",
   "metadata": {},
   "source": [
    "## 4.4 Summary"
   ]
  },
  {
   "cell_type": "markdown",
   "id": "bbf0dedf",
   "metadata": {},
   "source": [
    "The following table reports the mean and standard deviation of error in the linearized equations of motion:\n",
    "\n",
    "|  | $\\dot{o}_x$ | $\\dot{o}_y$ | $\\dot{o}_z$ | $\\dot{\\psi}$ | $\\dot{\\theta}$ | $\\dot{\\phi}$ | $\\dot{v}_x$ | $\\dot{v}_y$ | $\\dot{v}_z$ |\n",
    "| :--: | :--: | :--: | :--: | :--: | :--: | :--: | :--: | :--: | :--: |\n",
    "| mean | 0.123 | 0.456 | 0.789 | 0.789 | 0.456 | 0.123 | 0.123 | 0.123 | 0.123 |\n",
    "| std | 0.123 | 0.456 | 0.789 | 0.789 | 0.456 | 0.123 | 0.123 | 0.123 | 0.123 |"
   ]
  },
  {
   "cell_type": "markdown",
   "id": "d85131e0",
   "metadata": {},
   "source": [
    "The following table reports the mean and standard deviation of error in the linearized measurement equations:\n",
    "\n",
    "|  | $n_x$ | $n_y$ | $r$ |\n",
    "| :--: | :--: | :--: | :--: |\n",
    "| mean | 0.123 | 0.456 | 0.789 |\n",
    "| std | 0.123 | 0.456 | 0.789 |"
   ]
  },
  {
   "cell_type": "markdown",
   "id": "53b74036",
   "metadata": {},
   "source": [
    "**Modify the text in this cell** to answer the following questions:\n",
    "\n",
    "* Which equations of motion do you trust most (or least) and why?\n",
    "* Which measurement equations do you trust most (or least) and why?"
   ]
  }
 ],
 "metadata": {
  "kernelspec": {
   "display_name": "Python 3 (ipykernel)",
   "language": "python",
   "name": "python3"
  },
  "language_info": {
   "codemirror_mode": {
    "name": "ipython",
    "version": 3
   },
   "file_extension": ".py",
   "mimetype": "text/x-python",
   "name": "python",
   "nbconvert_exporter": "python",
   "pygments_lexer": "ipython3",
   "version": "3.10.6"
  }
 },
 "nbformat": 4,
 "nbformat_minor": 5
}
