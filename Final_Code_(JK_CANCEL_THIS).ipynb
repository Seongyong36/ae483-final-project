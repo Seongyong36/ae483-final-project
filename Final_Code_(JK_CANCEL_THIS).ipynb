{
 "cells": [
  {
   "cell_type": "markdown",
   "id": "393bf1f2",
   "metadata": {},
   "source": [
    "# 1. Set up the Notebook"
   ]
  },
  {
   "cell_type": "markdown",
   "id": "9b231f09",
   "metadata": {},
   "source": [
    "Import modules"
   ]
  },
  {
   "cell_type": "code",
   "execution_count": 7,
   "id": "18a7c856",
   "metadata": {},
   "outputs": [],
   "source": [
    "import numpy as np\n",
    "import sympy as sym\n",
    "import json\n",
    "import matplotlib.pyplot as plt\n",
    "from scipy import linalg\n",
    "from scipy.interpolate import interp1d\n",
    "from IPython.display import display, IFrame, HTML"
   ]
  },
  {
   "cell_type": "markdown",
   "id": "5f0f8aa4",
   "metadata": {},
   "source": [
    "Define a function to load data from a hardware flight test and resample it at 100 Hz using linear interpolation."
   ]
  },
  {
   "cell_type": "code",
   "execution_count": 8,
   "id": "f363c236",
   "metadata": {},
   "outputs": [],
   "source": [
    "def load_hardware_data(filename, t_min_offset=0, t_max_offset=0, only_in_flight=False):\n",
    "    # load raw data\n",
    "    with open(filename, 'r') as f:\n",
    "        data = json.load(f)\n",
    "\n",
    "    # convert lists to numpy arrays\n",
    "    for val in data.values():\n",
    "        for key in val.keys():\n",
    "            val[key] = np.array(val[key])\n",
    "\n",
    "    # create an array of times at which to subsample\n",
    "    t_min = -np.inf\n",
    "    t_max = np.inf\n",
    "    for key, val in data.items():\n",
    "        t_min = max(t_min, val['time'][0])\n",
    "        t_max = min(t_max, val['time'][-1])\n",
    "    t_min += t_min_offset * 1000\n",
    "    t_max -= t_max_offset * 1000\n",
    "    nt = int(1 + np.floor((t_max - t_min) / 10.))\n",
    "    t = np.arange(0, 10 * nt, 10) / 1000.\n",
    "    resampled_data = {'time': t}\n",
    "\n",
    "    # resample raw data with linear interpolation\n",
    "    for k, v in data.items():\n",
    "        f = interp1d((v['time'] - t_min) / 1000., v['data'])\n",
    "        resampled_data[k] = f(t)\n",
    "    \n",
    "    # truncate to times when o_z_des is positive\n",
    "    if only_in_flight:\n",
    "        i = []\n",
    "        for k in ['ae483log.o_z_des', 'ctrltarget.z']:\n",
    "            if k in resampled_data.keys():\n",
    "                j = np.argwhere(resampled_data[k] > 0).flatten()\n",
    "                if len(j) > len(i):\n",
    "                    i = j\n",
    "        if len(i) < 2:\n",
    "            raise Exception(\n",
    "                'Failed to get \"only_in_flight\" data.\\n' + \\\n",
    "                ' - Did you remember to log \"ae483log.o_z_des\" and was it ever positive?\\n' + \\\n",
    "                ' - Did you remember to log \"ctrltarget.z\" and was it ever positive?\\n'\n",
    "            )\n",
    "        for key in resampled_data.keys():\n",
    "            resampled_data[key] = resampled_data[key][i[0]:i[-1]]\n",
    "        \n",
    "    # return the resampled data\n",
    "    return resampled_data"
   ]
  },
  {
   "cell_type": "markdown",
   "id": "1394db0f",
   "metadata": {},
   "source": [
    "Define a function to solve the linear quadratic regulator (LQR) problem - i.e., that finds the matrix $K$ for which\n",
    "\n",
    "$$u(t) = - K x(t)$$\n",
    "\n",
    "is the optimal solution to\n",
    "\n",
    "$$\n",
    "\\begin{align*}\n",
    "\\underset{u_{[t_{0}, \\infty)}}{\\text{minimize}} &\\qquad \\int_{t_{0}}^{\\infty}\\left( x(t)^{T}Qx(t)+u(t)^{T}Ru(t)\\right)dt \\\\\n",
    "\\text{subject to} &\\qquad \\dot{x}(t) = Ax(t)+Bu(t), \\quad x(t_{0})=x_{0}.\n",
    "\\end{align*}\n",
    "$$"
   ]
  },
  {
   "cell_type": "code",
   "execution_count": 9,
   "id": "3dac441f",
   "metadata": {},
   "outputs": [],
   "source": [
    "def lqr(A, B, Q, R):\n",
    "    P = linalg.solve_continuous_are(A, B, Q, R)\n",
    "    K = linalg.inv(R) @  B.T @ P\n",
    "    return K"
   ]
  },
  {
   "cell_type": "markdown",
   "id": "0d7abbc5",
   "metadata": {},
   "source": [
    "Define a function to create the observability matrix\n",
    "\n",
    "$$ W_o = \\begin{bmatrix} C \\\\ CA \\\\ CA^2 \\\\ \\vdots \\\\ CA^{n-1} \\end{bmatrix} $$\n",
    "\n",
    "where $A$ has size $n \\times n$."
   ]
  },
  {
   "cell_type": "code",
   "execution_count": 10,
   "id": "c0e38275",
   "metadata": {},
   "outputs": [],
   "source": [
    "def obsv(A, C):\n",
    "    W = C\n",
    "    for i in range(1, A.shape[0]):\n",
    "        W = np.vstack([W, C @ np.linalg.matrix_power(A, i)])\n",
    "    return W"
   ]
  },
  {
   "cell_type": "markdown",
   "id": "54eec3ca",
   "metadata": {},
   "source": [
    "Define a function to embed videos that have been uploaded to [Illinois Mediaspace](https://mediaspace.illinois.edu/)."
   ]
  },
  {
   "cell_type": "code",
   "execution_count": 11,
   "id": "b37ecd00",
   "metadata": {},
   "outputs": [],
   "source": [
    "def mediaspace(url, width=640, height=397):\n",
    "    video_id = url.rsplit('/', 1)[-1]\n",
    "    src = f'https://mediaspace.illinois.edu/embed/secure/iframe/entryId/{video_id}?st=0'\n",
    "    display(IFrame(src, width=width, height=height))\n",
    "    display(HTML(f'<a href=\"{url}\" target=\"_blank\">Go to video on Illinois Mediaspace</a>'))"
   ]
  },
  {
   "cell_type": "markdown",
   "id": "d6ab290f",
   "metadata": {},
   "source": [
    "Define the rotation matrix $R_1^0$ as a function of the yaw angle $\\psi$, the pitch angle $\\theta$, and the roll angle $\\phi$."
   ]
  },
  {
   "cell_type": "code",
   "execution_count": 12,
   "id": "aa4d5dbd",
   "metadata": {},
   "outputs": [],
   "source": [
    "# Define symbolic variables\n",
    "psi, theta, phi = sym.symbols('psi, theta, phi')\n",
    "\n",
    "# Define rotation about the body-fixed z axis by psi\n",
    "Rz = sym.Matrix([[sym.cos(psi), -sym.sin(psi), 0],\n",
    "                 [sym.sin(psi), sym.cos(psi), 0],\n",
    "                 [0, 0, 1]])\n",
    "\n",
    "# Define rotation about the body-fixed y axis by theta\n",
    "Ry = sym.Matrix([[sym.cos(theta), 0, sym.sin(theta)],\n",
    "                 [0, 1, 0],\n",
    "                 [-sym.sin(theta), 0, sym.cos(theta)]])\n",
    "\n",
    "# Define rotation about the body-fixed x axis by phi\n",
    "Rx = sym.Matrix([[1, 0, 0],\n",
    "                 [0, sym.cos(phi), -sym.sin(phi)],\n",
    "                 [0, sym.sin(phi), sym.cos(phi)]])\n",
    "\n",
    "# Apply sequential transformation to compute the rotation\n",
    "# matrix R_1in0 that describes the orientation of the drone\n",
    "# (i.e., of frame 1 in the coordinates of frame 0)\n",
    "R_1in0 = Rz @ Ry @ Rx\n",
    "\n",
    "# Create a function that returns R_1in0 as a numpy array\n",
    "R_1in0 = sym.lambdify((psi, theta, phi), R_1in0)\n",
    "\n",
    "# Delete variables that are no longer needed\n",
    "del psi, theta, phi, Rz, Ry, Rx"
   ]
  },
  {
   "cell_type": "markdown",
   "id": "57aa8350",
   "metadata": {},
   "source": [
    "# Moment of Inertia Results"
   ]
  },
  {
   "cell_type": "markdown",
   "id": "2d3c739b",
   "metadata": {},
   "source": [
    "## Define Constants"
   ]
  },
  {
   "cell_type": "code",
   "execution_count": 13,
   "id": "edf319c4",
   "metadata": {},
   "outputs": [],
   "source": [
    "g = 9.81 # m/s2\n",
    "m = 0.0351 # kg"
   ]
  },
  {
   "cell_type": "markdown",
   "id": "3f213bf8",
   "metadata": {},
   "source": [
    "## Estimating the moment of inertia about x-axis"
   ]
  },
  {
   "cell_type": "markdown",
   "id": "b17ca8b7",
   "metadata": {},
   "source": [
    "Moment of inertia about the x-axis was found by swinging the drone about the x axis, finding the period between the peaks, and calculating the moment with the following equation:\n",
    "\n",
    "$$J_x = m * (\\frac{g*r_x*T_x^2}{4*\\pi^2}-r_x^2)$$"
   ]
  },
  {
   "cell_type": "code",
   "execution_count": null,
   "id": "3ed2d686",
   "metadata": {},
   "outputs": [],
   "source": [
    "r_x = 3.50/100 # m\n",
    "T_x = 0.4261 # s\n"
   ]
  }
 ],
 "metadata": {
  "kernelspec": {
   "display_name": "Python 3 (ipykernel)",
   "language": "python",
   "name": "python3"
  },
  "language_info": {
   "codemirror_mode": {
    "name": "ipython",
    "version": 3
   },
   "file_extension": ".py",
   "mimetype": "text/x-python",
   "name": "python",
   "nbconvert_exporter": "python",
   "pygments_lexer": "ipython3",
   "version": "3.10.6"
  }
 },
 "nbformat": 4,
 "nbformat_minor": 5
}
